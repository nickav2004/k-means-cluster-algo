{
  "nbformat": 4,
  "nbformat_minor": 0,
  "metadata": {
    "kernelspec": {
      "display_name": "Python 3",
      "language": "python",
      "name": "python3"
    },
    "language_info": {
      "codemirror_mode": {
        "name": "ipython",
        "version": 3
      },
      "file_extension": ".py",
      "mimetype": "text/x-python",
      "name": "python",
      "nbconvert_exporter": "python",
      "pygments_lexer": "ipython3",
      "version": "3.8.8"
    },
    "colab": {
      "provenance": [],
      "include_colab_link": true
    }
  },
  "cells": [
    {
      "cell_type": "markdown",
      "metadata": {
        "id": "view-in-github",
        "colab_type": "text"
      },
      "source": [
        "<a href=\"https://colab.research.google.com/github/nickav2004/k-means-cluster-algo/blob/master/ECEN_360_Assignment_2.ipynb\" target=\"_parent\"><img src=\"https://colab.research.google.com/assets/colab-badge.svg\" alt=\"Open In Colab\"/></a>"
      ]
    },
    {
      "cell_type": "markdown",
      "metadata": {
        "id": "_njhw434ZQwn"
      },
      "source": [
        "# KMeans Implementation\n",
        "\n",
        "[Jian Tao](https://orcid.org/0000-0003-4228-6089), Texas A&M University\n",
        "\n",
        "Feb 22, 2024"
      ]
    },
    {
      "cell_type": "code",
      "metadata": {
        "id": "8aXwSOK8ZQwo"
      },
      "source": [
        "import pandas as pd\n",
        "import numpy as np\n",
        "import matplotlib.pyplot as plt\n",
        "from sklearn.datasets import load_iris"
      ],
      "execution_count": 699,
      "outputs": []
    },
    {
      "cell_type": "markdown",
      "metadata": {
        "id": "jvABRYGlZQwp"
      },
      "source": [
        "# Algorithm\n",
        "We will strictly follow the steps listed below to implement KMeans algorithm:\n",
        "1. Select the number of clusters  𝑘  that you think is the optimal number.\n",
        "2. Initialize  𝑘  points as \"centroids\" randomly within the space of our data.\n",
        "3. Attribute each observation to its closest centroid.\n",
        "4. Update the centroids to the center of all the attributed set of observations.\n",
        "5. To be implemented - > Repeat steps 3 and 4 a fixed number of times or until all of the centroids are stable (i.e. no longer change in step 4)"
      ]
    },
    {
      "cell_type": "markdown",
      "metadata": {
        "id": "5X4rxLsFZQwp"
      },
      "source": [
        "## Frist of All, Load the data\n",
        "This data set is just for testing purpose."
      ]
    },
    {
      "cell_type": "code",
      "metadata": {
        "id": "K_mtwG6yZQwp"
      },
      "source": [
        "iris = load_iris()"
      ],
      "execution_count": 700,
      "outputs": []
    },
    {
      "cell_type": "code",
      "source": [
        "df = pd.DataFrame(iris.data, columns=iris.feature_names)\n",
        "df"
      ],
      "metadata": {
        "colab": {
          "base_uri": "https://localhost:8080/",
          "height": 424
        },
        "id": "aCGkJiTYYZwY",
        "outputId": "b109aa9a-3c85-4286-be96-8f02310e6dc1"
      },
      "execution_count": 701,
      "outputs": [
        {
          "output_type": "execute_result",
          "data": {
            "text/plain": [
              "     sepal length (cm)  sepal width (cm)  petal length (cm)  petal width (cm)\n",
              "0                  5.1               3.5                1.4               0.2\n",
              "1                  4.9               3.0                1.4               0.2\n",
              "2                  4.7               3.2                1.3               0.2\n",
              "3                  4.6               3.1                1.5               0.2\n",
              "4                  5.0               3.6                1.4               0.2\n",
              "..                 ...               ...                ...               ...\n",
              "145                6.7               3.0                5.2               2.3\n",
              "146                6.3               2.5                5.0               1.9\n",
              "147                6.5               3.0                5.2               2.0\n",
              "148                6.2               3.4                5.4               2.3\n",
              "149                5.9               3.0                5.1               1.8\n",
              "\n",
              "[150 rows x 4 columns]"
            ],
            "text/html": [
              "\n",
              "  <div id=\"df-e99a3420-afe1-48fb-8b4b-c1c4e24b6e16\" class=\"colab-df-container\">\n",
              "    <div>\n",
              "<style scoped>\n",
              "    .dataframe tbody tr th:only-of-type {\n",
              "        vertical-align: middle;\n",
              "    }\n",
              "\n",
              "    .dataframe tbody tr th {\n",
              "        vertical-align: top;\n",
              "    }\n",
              "\n",
              "    .dataframe thead th {\n",
              "        text-align: right;\n",
              "    }\n",
              "</style>\n",
              "<table border=\"1\" class=\"dataframe\">\n",
              "  <thead>\n",
              "    <tr style=\"text-align: right;\">\n",
              "      <th></th>\n",
              "      <th>sepal length (cm)</th>\n",
              "      <th>sepal width (cm)</th>\n",
              "      <th>petal length (cm)</th>\n",
              "      <th>petal width (cm)</th>\n",
              "    </tr>\n",
              "  </thead>\n",
              "  <tbody>\n",
              "    <tr>\n",
              "      <th>0</th>\n",
              "      <td>5.1</td>\n",
              "      <td>3.5</td>\n",
              "      <td>1.4</td>\n",
              "      <td>0.2</td>\n",
              "    </tr>\n",
              "    <tr>\n",
              "      <th>1</th>\n",
              "      <td>4.9</td>\n",
              "      <td>3.0</td>\n",
              "      <td>1.4</td>\n",
              "      <td>0.2</td>\n",
              "    </tr>\n",
              "    <tr>\n",
              "      <th>2</th>\n",
              "      <td>4.7</td>\n",
              "      <td>3.2</td>\n",
              "      <td>1.3</td>\n",
              "      <td>0.2</td>\n",
              "    </tr>\n",
              "    <tr>\n",
              "      <th>3</th>\n",
              "      <td>4.6</td>\n",
              "      <td>3.1</td>\n",
              "      <td>1.5</td>\n",
              "      <td>0.2</td>\n",
              "    </tr>\n",
              "    <tr>\n",
              "      <th>4</th>\n",
              "      <td>5.0</td>\n",
              "      <td>3.6</td>\n",
              "      <td>1.4</td>\n",
              "      <td>0.2</td>\n",
              "    </tr>\n",
              "    <tr>\n",
              "      <th>...</th>\n",
              "      <td>...</td>\n",
              "      <td>...</td>\n",
              "      <td>...</td>\n",
              "      <td>...</td>\n",
              "    </tr>\n",
              "    <tr>\n",
              "      <th>145</th>\n",
              "      <td>6.7</td>\n",
              "      <td>3.0</td>\n",
              "      <td>5.2</td>\n",
              "      <td>2.3</td>\n",
              "    </tr>\n",
              "    <tr>\n",
              "      <th>146</th>\n",
              "      <td>6.3</td>\n",
              "      <td>2.5</td>\n",
              "      <td>5.0</td>\n",
              "      <td>1.9</td>\n",
              "    </tr>\n",
              "    <tr>\n",
              "      <th>147</th>\n",
              "      <td>6.5</td>\n",
              "      <td>3.0</td>\n",
              "      <td>5.2</td>\n",
              "      <td>2.0</td>\n",
              "    </tr>\n",
              "    <tr>\n",
              "      <th>148</th>\n",
              "      <td>6.2</td>\n",
              "      <td>3.4</td>\n",
              "      <td>5.4</td>\n",
              "      <td>2.3</td>\n",
              "    </tr>\n",
              "    <tr>\n",
              "      <th>149</th>\n",
              "      <td>5.9</td>\n",
              "      <td>3.0</td>\n",
              "      <td>5.1</td>\n",
              "      <td>1.8</td>\n",
              "    </tr>\n",
              "  </tbody>\n",
              "</table>\n",
              "<p>150 rows × 4 columns</p>\n",
              "</div>\n",
              "    <div class=\"colab-df-buttons\">\n",
              "\n",
              "  <div class=\"colab-df-container\">\n",
              "    <button class=\"colab-df-convert\" onclick=\"convertToInteractive('df-e99a3420-afe1-48fb-8b4b-c1c4e24b6e16')\"\n",
              "            title=\"Convert this dataframe to an interactive table.\"\n",
              "            style=\"display:none;\">\n",
              "\n",
              "  <svg xmlns=\"http://www.w3.org/2000/svg\" height=\"24px\" viewBox=\"0 -960 960 960\">\n",
              "    <path d=\"M120-120v-720h720v720H120Zm60-500h600v-160H180v160Zm220 220h160v-160H400v160Zm0 220h160v-160H400v160ZM180-400h160v-160H180v160Zm440 0h160v-160H620v160ZM180-180h160v-160H180v160Zm440 0h160v-160H620v160Z\"/>\n",
              "  </svg>\n",
              "    </button>\n",
              "\n",
              "  <style>\n",
              "    .colab-df-container {\n",
              "      display:flex;\n",
              "      gap: 12px;\n",
              "    }\n",
              "\n",
              "    .colab-df-convert {\n",
              "      background-color: #E8F0FE;\n",
              "      border: none;\n",
              "      border-radius: 50%;\n",
              "      cursor: pointer;\n",
              "      display: none;\n",
              "      fill: #1967D2;\n",
              "      height: 32px;\n",
              "      padding: 0 0 0 0;\n",
              "      width: 32px;\n",
              "    }\n",
              "\n",
              "    .colab-df-convert:hover {\n",
              "      background-color: #E2EBFA;\n",
              "      box-shadow: 0px 1px 2px rgba(60, 64, 67, 0.3), 0px 1px 3px 1px rgba(60, 64, 67, 0.15);\n",
              "      fill: #174EA6;\n",
              "    }\n",
              "\n",
              "    .colab-df-buttons div {\n",
              "      margin-bottom: 4px;\n",
              "    }\n",
              "\n",
              "    [theme=dark] .colab-df-convert {\n",
              "      background-color: #3B4455;\n",
              "      fill: #D2E3FC;\n",
              "    }\n",
              "\n",
              "    [theme=dark] .colab-df-convert:hover {\n",
              "      background-color: #434B5C;\n",
              "      box-shadow: 0px 1px 3px 1px rgba(0, 0, 0, 0.15);\n",
              "      filter: drop-shadow(0px 1px 2px rgba(0, 0, 0, 0.3));\n",
              "      fill: #FFFFFF;\n",
              "    }\n",
              "  </style>\n",
              "\n",
              "    <script>\n",
              "      const buttonEl =\n",
              "        document.querySelector('#df-e99a3420-afe1-48fb-8b4b-c1c4e24b6e16 button.colab-df-convert');\n",
              "      buttonEl.style.display =\n",
              "        google.colab.kernel.accessAllowed ? 'block' : 'none';\n",
              "\n",
              "      async function convertToInteractive(key) {\n",
              "        const element = document.querySelector('#df-e99a3420-afe1-48fb-8b4b-c1c4e24b6e16');\n",
              "        const dataTable =\n",
              "          await google.colab.kernel.invokeFunction('convertToInteractive',\n",
              "                                                    [key], {});\n",
              "        if (!dataTable) return;\n",
              "\n",
              "        const docLinkHtml = 'Like what you see? Visit the ' +\n",
              "          '<a target=\"_blank\" href=https://colab.research.google.com/notebooks/data_table.ipynb>data table notebook</a>'\n",
              "          + ' to learn more about interactive tables.';\n",
              "        element.innerHTML = '';\n",
              "        dataTable['output_type'] = 'display_data';\n",
              "        await google.colab.output.renderOutput(dataTable, element);\n",
              "        const docLink = document.createElement('div');\n",
              "        docLink.innerHTML = docLinkHtml;\n",
              "        element.appendChild(docLink);\n",
              "      }\n",
              "    </script>\n",
              "  </div>\n",
              "\n",
              "\n",
              "<div id=\"df-e1ed9036-52f0-4be8-9438-cbedabab5104\">\n",
              "  <button class=\"colab-df-quickchart\" onclick=\"quickchart('df-e1ed9036-52f0-4be8-9438-cbedabab5104')\"\n",
              "            title=\"Suggest charts\"\n",
              "            style=\"display:none;\">\n",
              "\n",
              "<svg xmlns=\"http://www.w3.org/2000/svg\" height=\"24px\"viewBox=\"0 0 24 24\"\n",
              "     width=\"24px\">\n",
              "    <g>\n",
              "        <path d=\"M19 3H5c-1.1 0-2 .9-2 2v14c0 1.1.9 2 2 2h14c1.1 0 2-.9 2-2V5c0-1.1-.9-2-2-2zM9 17H7v-7h2v7zm4 0h-2V7h2v10zm4 0h-2v-4h2v4z\"/>\n",
              "    </g>\n",
              "</svg>\n",
              "  </button>\n",
              "\n",
              "<style>\n",
              "  .colab-df-quickchart {\n",
              "      --bg-color: #E8F0FE;\n",
              "      --fill-color: #1967D2;\n",
              "      --hover-bg-color: #E2EBFA;\n",
              "      --hover-fill-color: #174EA6;\n",
              "      --disabled-fill-color: #AAA;\n",
              "      --disabled-bg-color: #DDD;\n",
              "  }\n",
              "\n",
              "  [theme=dark] .colab-df-quickchart {\n",
              "      --bg-color: #3B4455;\n",
              "      --fill-color: #D2E3FC;\n",
              "      --hover-bg-color: #434B5C;\n",
              "      --hover-fill-color: #FFFFFF;\n",
              "      --disabled-bg-color: #3B4455;\n",
              "      --disabled-fill-color: #666;\n",
              "  }\n",
              "\n",
              "  .colab-df-quickchart {\n",
              "    background-color: var(--bg-color);\n",
              "    border: none;\n",
              "    border-radius: 50%;\n",
              "    cursor: pointer;\n",
              "    display: none;\n",
              "    fill: var(--fill-color);\n",
              "    height: 32px;\n",
              "    padding: 0;\n",
              "    width: 32px;\n",
              "  }\n",
              "\n",
              "  .colab-df-quickchart:hover {\n",
              "    background-color: var(--hover-bg-color);\n",
              "    box-shadow: 0 1px 2px rgba(60, 64, 67, 0.3), 0 1px 3px 1px rgba(60, 64, 67, 0.15);\n",
              "    fill: var(--button-hover-fill-color);\n",
              "  }\n",
              "\n",
              "  .colab-df-quickchart-complete:disabled,\n",
              "  .colab-df-quickchart-complete:disabled:hover {\n",
              "    background-color: var(--disabled-bg-color);\n",
              "    fill: var(--disabled-fill-color);\n",
              "    box-shadow: none;\n",
              "  }\n",
              "\n",
              "  .colab-df-spinner {\n",
              "    border: 2px solid var(--fill-color);\n",
              "    border-color: transparent;\n",
              "    border-bottom-color: var(--fill-color);\n",
              "    animation:\n",
              "      spin 1s steps(1) infinite;\n",
              "  }\n",
              "\n",
              "  @keyframes spin {\n",
              "    0% {\n",
              "      border-color: transparent;\n",
              "      border-bottom-color: var(--fill-color);\n",
              "      border-left-color: var(--fill-color);\n",
              "    }\n",
              "    20% {\n",
              "      border-color: transparent;\n",
              "      border-left-color: var(--fill-color);\n",
              "      border-top-color: var(--fill-color);\n",
              "    }\n",
              "    30% {\n",
              "      border-color: transparent;\n",
              "      border-left-color: var(--fill-color);\n",
              "      border-top-color: var(--fill-color);\n",
              "      border-right-color: var(--fill-color);\n",
              "    }\n",
              "    40% {\n",
              "      border-color: transparent;\n",
              "      border-right-color: var(--fill-color);\n",
              "      border-top-color: var(--fill-color);\n",
              "    }\n",
              "    60% {\n",
              "      border-color: transparent;\n",
              "      border-right-color: var(--fill-color);\n",
              "    }\n",
              "    80% {\n",
              "      border-color: transparent;\n",
              "      border-right-color: var(--fill-color);\n",
              "      border-bottom-color: var(--fill-color);\n",
              "    }\n",
              "    90% {\n",
              "      border-color: transparent;\n",
              "      border-bottom-color: var(--fill-color);\n",
              "    }\n",
              "  }\n",
              "</style>\n",
              "\n",
              "  <script>\n",
              "    async function quickchart(key) {\n",
              "      const quickchartButtonEl =\n",
              "        document.querySelector('#' + key + ' button');\n",
              "      quickchartButtonEl.disabled = true;  // To prevent multiple clicks.\n",
              "      quickchartButtonEl.classList.add('colab-df-spinner');\n",
              "      try {\n",
              "        const charts = await google.colab.kernel.invokeFunction(\n",
              "            'suggestCharts', [key], {});\n",
              "      } catch (error) {\n",
              "        console.error('Error during call to suggestCharts:', error);\n",
              "      }\n",
              "      quickchartButtonEl.classList.remove('colab-df-spinner');\n",
              "      quickchartButtonEl.classList.add('colab-df-quickchart-complete');\n",
              "    }\n",
              "    (() => {\n",
              "      let quickchartButtonEl =\n",
              "        document.querySelector('#df-e1ed9036-52f0-4be8-9438-cbedabab5104 button');\n",
              "      quickchartButtonEl.style.display =\n",
              "        google.colab.kernel.accessAllowed ? 'block' : 'none';\n",
              "    })();\n",
              "  </script>\n",
              "</div>\n",
              "    </div>\n",
              "  </div>\n"
            ],
            "application/vnd.google.colaboratory.intrinsic+json": {
              "type": "dataframe",
              "variable_name": "df",
              "summary": "{\n  \"name\": \"df\",\n  \"rows\": 150,\n  \"fields\": [\n    {\n      \"column\": \"sepal length (cm)\",\n      \"properties\": {\n        \"dtype\": \"number\",\n        \"std\": 0.828066127977863,\n        \"min\": 4.3,\n        \"max\": 7.9,\n        \"num_unique_values\": 35,\n        \"samples\": [\n          6.2,\n          4.5,\n          5.6\n        ],\n        \"semantic_type\": \"\",\n        \"description\": \"\"\n      }\n    },\n    {\n      \"column\": \"sepal width (cm)\",\n      \"properties\": {\n        \"dtype\": \"number\",\n        \"std\": 0.4358662849366982,\n        \"min\": 2.0,\n        \"max\": 4.4,\n        \"num_unique_values\": 23,\n        \"samples\": [\n          2.3,\n          4.0,\n          3.5\n        ],\n        \"semantic_type\": \"\",\n        \"description\": \"\"\n      }\n    },\n    {\n      \"column\": \"petal length (cm)\",\n      \"properties\": {\n        \"dtype\": \"number\",\n        \"std\": 1.7652982332594662,\n        \"min\": 1.0,\n        \"max\": 6.9,\n        \"num_unique_values\": 43,\n        \"samples\": [\n          6.7,\n          3.8,\n          3.7\n        ],\n        \"semantic_type\": \"\",\n        \"description\": \"\"\n      }\n    },\n    {\n      \"column\": \"petal width (cm)\",\n      \"properties\": {\n        \"dtype\": \"number\",\n        \"std\": 0.7622376689603465,\n        \"min\": 0.1,\n        \"max\": 2.5,\n        \"num_unique_values\": 22,\n        \"samples\": [\n          0.2,\n          1.2,\n          1.3\n        ],\n        \"semantic_type\": \"\",\n        \"description\": \"\"\n      }\n    }\n  ]\n}"
            }
          },
          "metadata": {},
          "execution_count": 701
        }
      ]
    },
    {
      "cell_type": "code",
      "metadata": {
        "id": "euFQWhg0ZQwp"
      },
      "source": [
        "df = pd.DataFrame(iris.data, columns=iris.feature_names)\n",
        "df[\"target\"] = iris.target # only for plot the first figure."
      ],
      "execution_count": 702,
      "outputs": []
    },
    {
      "cell_type": "code",
      "metadata": {
        "id": "lp4b6RmoZQwq",
        "colab": {
          "base_uri": "https://localhost:8080/",
          "height": 455
        },
        "outputId": "cf2c64ec-72e9-4cf6-8bf5-65d36e83bc49"
      },
      "source": [
        "df.plot.scatter(x=\"sepal length (cm)\", y=\"sepal width (cm)\", c=\"target\", colormap='viridis');"
      ],
      "execution_count": 703,
      "outputs": [
        {
          "output_type": "display_data",
          "data": {
            "text/plain": [
              "<Figure size 640x480 with 2 Axes>"
            ],
            "image/png": "[encoded data removed]"
          },
          "metadata": {}
        }
      ]
    },
    {
      "cell_type": "markdown",
      "metadata": {
        "id": "zYsgINIgZQwq"
      },
      "source": [
        "## Step 1. Select the number of clusters 𝑘 that you think is the optimal number."
      ]
    },
    {
      "cell_type": "code",
      "metadata": {
        "id": "-CI4sIgNZQwr",
        "colab": {
          "base_uri": "https://localhost:8080/"
        },
        "outputId": "343a8b92-5633-4246-f883-f979dd515dba"
      },
      "source": [
        "np.random.seed(42) # gets same random numbers\n",
        "X = df[[\"sepal length (cm)\", \"sepal width (cm)\"]].to_numpy()\n",
        "\n",
        "# this random Centroids is just for testing the functions.\n",
        "Centroids = df[[\"sepal length (cm)\", \"sepal width (cm)\"]].sample(n=3).to_numpy()\n",
        "Centroids"
      ],
      "execution_count": 704,
      "outputs": [
        {
          "output_type": "execute_result",
          "data": {
            "text/plain": [
              "array([[6.1, 2.8],\n",
              "       [5.7, 3.8],\n",
              "       [7.7, 2.6]])"
            ]
          },
          "metadata": {},
          "execution_count": 704
        }
      ]
    },
    {
      "cell_type": "code",
      "source": [
        "len(X)"
      ],
      "metadata": {
        "colab": {
          "base_uri": "https://localhost:8080/"
        },
        "id": "h1FuXLki49n2",
        "outputId": "ad22faee-cd41-4a9f-d7f5-e9b5b69da65f"
      },
      "execution_count": 705,
      "outputs": [
        {
          "output_type": "execute_result",
          "data": {
            "text/plain": [
              "150"
            ]
          },
          "metadata": {},
          "execution_count": 705
        }
      ]
    },
    {
      "cell_type": "markdown",
      "metadata": {
        "id": "9Flp5vRpZQwr"
      },
      "source": [
        "## Step 2. Initialize 𝑘 points as \"centroids\" randomly within the space of our data."
      ]
    },
    {
      "cell_type": "code",
      "metadata": {
        "id": "At24ZLa6ZQwr"
      },
      "source": [
        "# we will plot the current centroids and the updated centroids for comparison purpose.\n",
        "def plot_cluster(c, c_n, err=-1):\n",
        "    fig, ax = plt.subplots(figsize=(6,4))\n",
        "    ax.scatter(x=X[:, 0], y=X[:, 1])\n",
        "    ax.scatter(x=c[:, 0], y=c[:, 1], s=100, c=\"y\", marker=\"o\", label=\"Curent Centroids\")\n",
        "    ax.scatter(x=c_n[:, 0], y=c_n[:, 1], s=100, c=\"r\", marker=\"s\", label=\"Updated Centroids\")\n",
        "    ax.legend()\n",
        "    ax.set_title(\"Error: %s\"%err)"
      ],
      "execution_count": 706,
      "outputs": []
    },
    {
      "cell_type": "code",
      "metadata": {
        "id": "hSUALL_XZQws",
        "colab": {
          "base_uri": "https://localhost:8080/",
          "height": 391
        },
        "outputId": "6b3936d9-db2f-478c-b678-7feca9540ef9"
      },
      "source": [
        "# test the plotting function\n",
        "plot_cluster(Centroids, Centroids, err=0)"
      ],
      "execution_count": 707,
      "outputs": [
        {
          "output_type": "display_data",
          "data": {
            "text/plain": [
              "<Figure size 600x400 with 1 Axes>"
            ],
            "image/png": "[encoded data removed]"
          },
          "metadata": {}
        }
      ]
    },
    {
      "cell_type": "markdown",
      "metadata": {
        "id": "czZmbko5ZQws"
      },
      "source": [
        "## Step 3. Attribute each observation to its closest centroid."
      ]
    },
    {
      "cell_type": "code",
      "metadata": {
        "id": "SmBRRgDWZQws"
      },
      "source": [
        "def distance(a, b):\n",
        "    return np.sqrt(np.sum((a - b) ** 2))"
      ],
      "execution_count": 708,
      "outputs": []
    },
    {
      "cell_type": "code",
      "metadata": {
        "id": "k_rhuMssZQws"
      },
      "source": [
        "# X: numpy array - data to be clustered\n",
        "# e.g.\n",
        "# X = array([[5.1, 3.5],\n",
        "#            [4.9, 3. ],\n",
        "#            [4.7, 3.2]])\n",
        "\n",
        "# C: numpy array - locations of the current Centroids\n",
        "# e.g.\n",
        "# C = array([[6.1, 2.8],\n",
        "#            [5.7, 3.8],\n",
        "#            [7.7, 2.6]])\n",
        "\n",
        "# Return: numpy array - indices to the closest centroids for all X\n",
        "# e.g.\n",
        "# Return:\n",
        "#      array([1., 0., 2.])\n",
        "\n",
        "def mark_center(X, c):\n",
        "    num_centers = len(c)\n",
        "    num_observations = len(X)\n",
        "\n",
        "    X_c = np.full_like(X[:, 0], -1)\n",
        "\n",
        "    for i in range(num_observations):\n",
        "        l = np.argmin([distance(X[i], c[j]) for j in range(num_centers)])\n",
        "        X_c[i] = l\n",
        "\n",
        "    if np.any(X_c==-1):\n",
        "        print (\"something goes wrong!\")\n",
        "\n",
        "    return X_c"
      ],
      "execution_count": 709,
      "outputs": []
    },
    {
      "cell_type": "code",
      "metadata": {
        "id": "wOExRJ71ZQwt",
        "colab": {
          "base_uri": "https://localhost:8080/"
        },
        "outputId": "e9e84f04-1967-415d-d457-fa29a3eff2df"
      },
      "source": [
        "mark_center (X, Centroids)"
      ],
      "execution_count": 710,
      "outputs": [
        {
          "output_type": "execute_result",
          "data": {
            "text/plain": [
              "array([1., 1., 1., 1., 1., 1., 1., 1., 1., 1., 1., 1., 1., 1., 1., 1., 1.,\n",
              "       1., 1., 1., 1., 1., 1., 1., 1., 1., 1., 1., 1., 1., 1., 1., 1., 1.,\n",
              "       1., 1., 1., 1., 1., 1., 1., 0., 1., 1., 1., 1., 1., 1., 1., 1., 2.,\n",
              "       0., 0., 0., 0., 0., 0., 0., 0., 0., 0., 0., 0., 0., 0., 0., 0., 0.,\n",
              "       0., 0., 0., 0., 0., 0., 0., 0., 0., 0., 0., 0., 0., 0., 0., 0., 0.,\n",
              "       1., 0., 0., 0., 0., 0., 0., 0., 0., 0., 0., 0., 0., 0., 0., 0., 0.,\n",
              "       2., 0., 0., 2., 0., 2., 0., 2., 0., 0., 0., 0., 0., 0., 0., 2., 2.,\n",
              "       0., 0., 0., 2., 0., 0., 2., 0., 0., 0., 2., 2., 2., 0., 0., 0., 2.,\n",
              "       0., 0., 0., 0., 0., 0., 0., 0., 0., 0., 0., 0., 0., 0.])"
            ]
          },
          "metadata": {},
          "execution_count": 710
        }
      ]
    },
    {
      "cell_type": "markdown",
      "metadata": {
        "id": "R63g-92AZQwt"
      },
      "source": [
        "## Step 4. Update the centroids to the center of all the attributed set of observations."
      ]
    },
    {
      "cell_type": "code",
      "metadata": {
        "id": "IYWgpy0-ZQwt"
      },
      "source": [
        "# X: numpy array - data to be clustered\n",
        "# e.g.\n",
        "# X = array([[5.1, 3.5],\n",
        "#            [4.9, 3. ],\n",
        "#            [4.7, 3.2]])\n",
        "\n",
        "# C: numpy array - locations of the current Centroids\n",
        "# e.g.\n",
        "# C = array([[6.1, 2.8],\n",
        "#            [5.7, 3.8],\n",
        "#            [7.7, 2.6]])\n",
        "\n",
        "# X_c: numpy array - indices to the closest centroids for all X\n",
        "# e.g.\n",
        "# X_c = array([1., 0., 2.])\n",
        "\n",
        "# Return: 1. numpy array - updated locations of the centroids\n",
        "#         2. err - distance between C and C_new\n",
        "\n",
        "def update_centroids(C, X, X_c, plot=True):\n",
        "    num_centers = len(C)\n",
        "    C_new = np.full_like(C, -1)\n",
        "\n",
        "    for i in range(num_centers):\n",
        "        C_new[i]= np.mean(X[X_c==i], axis=0)\n",
        "    err = distance(C, C_new)\n",
        "    if plot:\n",
        "        plot_cluster(C, C_new, err=err)\n",
        "    return C_new, err"
      ],
      "execution_count": 711,
      "outputs": []
    },
    {
      "cell_type": "markdown",
      "metadata": {
        "id": "AnpIknenZQwt"
      },
      "source": [
        "## Step 5. Repeat steps 3 and 4 a fixed number of times or until all of the centroids are stable (i.e. no longer change in step 4)"
      ]
    },
    {
      "cell_type": "code",
      "metadata": {
        "id": "V0WjDK9rZQwt"
      },
      "source": [
        "def My_KMeans(X, n_clusters=3, max_iter=300, tol=1e-05, verbose=True):\n",
        "    centroids = Centroids\n",
        "    iter = 0\n",
        "\n",
        "    while True:\n",
        "        X_nearest_centroid = mark_center(X,centroids)\n",
        "        new_centroids, error = update_centroids(centroids, X, X_nearest_centroid, verbose)\n",
        "        if np.array_equal(centroids, new_centroids) or iter > max_iter:\n",
        "          break\n",
        "        centroids = new_centroids\n",
        "        iter+=1\n",
        "\n",
        "    print(f\"iterations: {iter}\")\n",
        "\n",
        "    return new_centroids"
      ],
      "execution_count": 712,
      "outputs": []
    },
    {
      "cell_type": "markdown",
      "metadata": {
        "id": "KNuzmxB7ZQwt"
      },
      "source": [
        "### Set verbose to True to see the plots"
      ]
    },
    {
      "cell_type": "code",
      "metadata": {
        "id": "cKBnERO6ZQwu",
        "colab": {
          "base_uri": "https://localhost:8080/"
        },
        "outputId": "648ddc7d-2c31-4a44-8fa5-60ea224ab406"
      },
      "source": [
        "Centroids = My_KMeans(X, n_clusters=3, tol=0.01, max_iter=300, verbose=False)\n",
        "Centroids"
      ],
      "execution_count": 713,
      "outputs": [
        {
          "output_type": "stream",
          "name": "stdout",
          "text": [
            "iterations: 15\n"
          ]
        },
        {
          "output_type": "execute_result",
          "data": {
            "text/plain": [
              "array([[5.8       , 2.7       ],\n",
              "       [5.00392157, 3.40980392],\n",
              "       [6.82391304, 3.07826087]])"
            ]
          },
          "metadata": {},
          "execution_count": 713
        }
      ]
    },
    {
      "cell_type": "markdown",
      "source": [
        "Finally, check your centers against those from scikit-learn."
      ],
      "metadata": {
        "id": "p3kQryR_1Djb"
      }
    },
    {
      "cell_type": "code",
      "source": [
        "plot_cluster(Centroids, Centroids)"
      ],
      "metadata": {
        "colab": {
          "base_uri": "https://localhost:8080/",
          "height": 391
        },
        "id": "FdPvFeOHtLmr",
        "outputId": "78f5212a-428d-412f-fa72-b1346f1cfceb"
      },
      "execution_count": 714,
      "outputs": [
        {
          "output_type": "display_data",
          "data": {
            "text/plain": [
              "<Figure size 600x400 with 1 Axes>"
            ],
            "image/png": "[encoded data removed]"
          },
          "metadata": {}
        }
      ]
    },
    {
      "cell_type": "code",
      "metadata": {
        "id": "nn4ywX5xZQwu",
        "colab": {
          "base_uri": "https://localhost:8080/"
        },
        "outputId": "be4f805f-4c08-4538-cad5-d3c886708b21"
      },
      "source": [
        "from sklearn.cluster import KMeans\n",
        "km = KMeans(n_clusters=3, tol=0.00001, max_iter=300)\n",
        "km.fit(X)\n",
        "km.cluster_centers_"
      ],
      "execution_count": 715,
      "outputs": [
        {
          "output_type": "stream",
          "name": "stderr",
          "text": [
            "/usr/local/lib/python3.10/dist-packages/sklearn/cluster/_kmeans.py:870: FutureWarning: The default value of `n_init` will change from 10 to 'auto' in 1.4. Set the value of `n_init` explicitly to suppress the warning\n",
            "  warnings.warn(\n"
          ]
        },
        {
          "output_type": "execute_result",
          "data": {
            "text/plain": [
              "array([[5.77358491, 2.69245283],\n",
              "       [5.006     , 3.428     ],\n",
              "       [6.81276596, 3.07446809]])"
            ]
          },
          "metadata": {},
          "execution_count": 715
        }
      ]
    }
  ]
}